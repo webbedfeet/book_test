{
 "cells": [
  {
   "cell_type": "markdown",
   "metadata": {},
   "source": [
    "\n",
    "# Python tools for data science\n",
    "(last updated 2020-05-18)\n",
    "\n",
    "## The PyData Stack\n",
    "\n",
    "The Python Data Stack comprises a set of packages that makes Python a powerful data science language. These include\n",
    "\n",
    "+ Numpy: provides arrays and matrix algebra\n",
    "+ Scipy: provides scientific computing capabilities\n",
    "+ matplotlib: provides graphing capabilities\n",
    "\n",
    "These were the original stack that was meant to replace Matlab. However, these were meant to tackle purely numerical data, and the kinds of heterogeneous data we regularly face needed more tools. These were added more recently.\n",
    "\n",
    "+ Pandas: provides data analytic structures like the data frame, as well as basic descriptive statistical capabilities\n",
    "+ statsmodels: provides a fairly comprehensive set of statistical functions\n",
    "+ scikit-learn: provides machine learning capabilities\n",
    "\n",
    "This is the basic stack of packages we will be using in this workshop. Additionally we will use a few packages that add some functionality to the data science process. These include\n",
    "\n",
    "+ seaborn: Better statistical graphs\n",
    "\n",
    "+ plotly: Interactive graphics\n",
    "\n",
    "+ biopython: Python for bioinformatics\n",
    "\n",
    "We may also introduce the package `rpy2` which allows one to run R from within Python. This can be useful since many bioinformatic pipelines are already implemented in R. \n",
    "\n",
    "> The [PyData stack](https://scipy.org) also includes `sympy`, a symbolic mathematics package emulating Maple\n",
    "\n",
    "## Numpy (numerical and scientific computing)\n",
    "\n",
    "We start by importing the Numpy package into Python using the alias `np`. "
   ]
  },
  {
   "cell_type": "code",
   "execution_count": 1,
   "metadata": {
    "name": "01-python-tools-ds-2"
   },
   "outputs": [],
   "source": [
    "import numpy as np"
   ]
  },
  {
   "cell_type": "markdown",
   "metadata": {},
   "source": [
    "Numpy provides both arrays (vectors, matrices, higher dimensional arrays) and vectorized functions which are very fast. Let's see how this works."
   ]
  },
  {
   "cell_type": "code",
   "execution_count": 2,
   "metadata": {
    "name": "01-python-tools-ds-3"
   },
   "outputs": [
    {
     "data": {
      "text/plain": [
       "array([ 1. ,  2. ,  3. ,  4. ,  5. ,  6. ,  7. ,  8. ,  9.3, 10.6])"
      ]
     },
     "execution_count": 2,
     "metadata": {},
     "output_type": "execute_result"
    }
   ],
   "source": [
    "z = [1,2,3,4,5,6,7,8,9.3,10.6] # This is a list\n",
    "z_array = np.array(z)\n",
    "z_array"
   ]
  },
  {
   "cell_type": "markdown",
   "metadata": {},
   "source": [
    "Now, we have already seen functions in Python earlier. In Numpy, there are functions that are optimized for arrays, that can be accessed directly from the array objects. This is an example of *object-oriented programming* in Python, where functions are provided for particular *classes* of objects, and which can be directly accessed from the objects. We will use several such functions over the course of this workshop, but we won't actually talk about how to do this program development here. "
   ]
  },
  {
   "cell_type": "markdown",
   "metadata": {},
   "source": [
    "> Numpy functions are often very fast, and are *vectorized*, i.e., they are written to work on vectors of numbers rather than single numbers. This is an advantage in data science since we often want to do the same operation to all elements of a column of data, which is essentially a vector"
   ]
  },
  {
   "cell_type": "markdown",
   "metadata": {},
   "source": [
    "We apply the functions `sum`, `min` (minimum value) and `max` (maximum value) to `z_array`. "
   ]
  },
  {
   "cell_type": "code",
   "execution_count": 3,
   "metadata": {
    "name": "01-python-tools-ds-4"
   },
   "outputs": [
    {
     "data": {
      "text/plain": [
       "55.9"
      ]
     },
     "execution_count": 3,
     "metadata": {},
     "output_type": "execute_result"
    }
   ],
   "source": [
    "z_array.sum()"
   ]
  },
  {
   "cell_type": "code",
   "execution_count": 4,
   "metadata": {
    "name": "01-python-tools-ds-5"
   },
   "outputs": [
    {
     "data": {
      "text/plain": [
       "1.0"
      ]
     },
     "execution_count": 4,
     "metadata": {},
     "output_type": "execute_result"
    }
   ],
   "source": [
    "z_array.min()"
   ]
  },
  {
   "cell_type": "code",
   "execution_count": 5,
   "metadata": {
    "name": "01-python-tools-ds-6"
   },
   "outputs": [
    {
     "data": {
      "text/plain": [
       "10.6"
      ]
     },
     "execution_count": 5,
     "metadata": {},
     "output_type": "execute_result"
    }
   ],
   "source": [
    "z_array.max()"
   ]
  },
  {
   "cell_type": "markdown",
   "metadata": {},
   "source": [
    "The versions of these functions in Numpy are optimized for arrays and are quite a bit faster than the corresponding functions available in base Python. When doing data work, these are the preferred functions. \n",
    "\n",
    "These functions can also be used in the usual function manner:"
   ]
  },
  {
   "cell_type": "code",
   "execution_count": 6,
   "metadata": {
    "name": "01-python-tools-ds-7"
   },
   "outputs": [
    {
     "data": {
      "text/plain": [
       "10.6"
      ]
     },
     "execution_count": 6,
     "metadata": {},
     "output_type": "execute_result"
    }
   ],
   "source": [
    "np.max(z_array)"
   ]
  },
  {
   "cell_type": "markdown",
   "metadata": {},
   "source": [
    "Calling `np.max` ensures that we are using the `max` function from numpy, and not the one in base Python. \n",
    "\n",
    "### Numpy data types\n",
    "\n",
    "Numpy arrays are homogeneous in type."
   ]
  },
  {
   "cell_type": "code",
   "execution_count": 7,
   "metadata": {
    "name": "01-python-tools-ds-8"
   },
   "outputs": [
    {
     "data": {
      "text/plain": [
       "array(['a', 'b', 'c'], dtype='<U1')"
      ]
     },
     "execution_count": 7,
     "metadata": {},
     "output_type": "execute_result"
    }
   ],
   "source": [
    "np.array(['a','b','c'])"
   ]
  },
  {
   "cell_type": "code",
   "execution_count": 8,
   "metadata": {
    "name": "01-python-tools-ds-9"
   },
   "outputs": [
    {
     "data": {
      "text/plain": [
       "array([ 1,  2,  3,  6,  8, 29])"
      ]
     },
     "execution_count": 8,
     "metadata": {},
     "output_type": "execute_result"
    }
   ],
   "source": [
    "np.array([1,2,3,6,8,29])"
   ]
  },
  {
   "cell_type": "markdown",
   "metadata": {},
   "source": [
    "But, what if we provide a heterogeneous list?"
   ]
  },
  {
   "cell_type": "code",
   "execution_count": 9,
   "metadata": {
    "name": "01-python-tools-ds-10"
   },
   "outputs": [
    {
     "data": {
      "text/plain": [
       "array(['1', '3', 'a'], dtype='<U21')"
      ]
     },
     "execution_count": 9,
     "metadata": {},
     "output_type": "execute_result"
    }
   ],
   "source": [
    "y = [1,3,'a']\n",
    "np.array(y)"
   ]
  },
  {
   "cell_type": "markdown",
   "metadata": {},
   "source": [
    "So what's going on here? Upon conversion from a heterogeneous list, numpy converted the numbers into strings. This is necessary since, by definition, numpy arrays can hold data of a single type. When one of the elements is a string, numpy casts all the other entities into strings as well. Think about what would happen if the opposite rule was used. The string 'a' doesn't have a corresponding number, while both numbers 1 and 3 have corresponding string representations, so going from string to numeric would create all sorts of problems. "
   ]
  },
  {
   "cell_type": "markdown",
   "metadata": {},
   "source": [
    "> The advantage of numpy arrays is that the data is stored in a contiguous section of memory, and  you can be very efficient with homogeneous arrays in terms of manipulating them, applying functions, etc. However, `numpy` does provide a \"catch-all\" `dtype` called `object`, which can be any Python object. This `dtype` essentially is an array of pointers to actual data stored in different parts of the memory. You can get to the actual objects by extracting them. So one could do  <a name='object'></a>"
   ]
  },
  {
   "cell_type": "code",
   "execution_count": 10,
   "metadata": {
    "name": "01-python-tools-ds-11"
   },
   "outputs": [
    {
     "data": {
      "text/plain": [
       "array([1, 3, 'a'], dtype=object)"
      ]
     },
     "execution_count": 10,
     "metadata": {},
     "output_type": "execute_result"
    }
   ],
   "source": [
    "np.array([1,3,'a'], dtype='object')"
   ]
  },
  {
   "cell_type": "markdown",
   "metadata": {},
   "source": [
    "> which would basically be a valid `numpy` array, but would go back to the actual objects when used, much like a list. We can see this later if we want to transform a heterogeneous `pandas` `DataFrame` into a `numpy` array. It's not particularly useful as is, but it prevents errors from popping up during transformations from `pandas` to `numpy`."
   ]
  },
  {
   "cell_type": "markdown",
   "metadata": {},
   "source": [
    "### Generating data in numpy\n",
    "\n",
    "We had seen earlier how we could generate a sequence of numbers in a list using `range`. In numpy, you can generate a sequence of numbers in an array using `arange` (which actually creates the array rather than provide an iterator like `range`)."
   ]
  },
  {
   "cell_type": "code",
   "execution_count": 11,
   "metadata": {
    "name": "01-python-tools-ds-12"
   },
   "outputs": [
    {
     "data": {
      "text/plain": [
       "array([0, 1, 2, 3, 4, 5, 6, 7, 8, 9])"
      ]
     },
     "execution_count": 11,
     "metadata": {},
     "output_type": "execute_result"
    }
   ],
   "source": [
    "np.arange(10)"
   ]
  },
  {
   "cell_type": "markdown",
   "metadata": {},
   "source": [
    "You can also generate regularly spaced sequences of numbers between particular values"
   ]
  },
  {
   "cell_type": "code",
   "execution_count": 12,
   "metadata": {
    "name": "01-python-tools-ds-13"
   },
   "outputs": [
    {
     "data": {
      "text/plain": [
       "array([0. , 0.1, 0.2, 0.3, 0.4, 0.5, 0.6, 0.7, 0.8, 0.9, 1. ])"
      ]
     },
     "execution_count": 12,
     "metadata": {},
     "output_type": "execute_result"
    }
   ],
   "source": [
    "np.linspace(start=0, stop=1, num=11) # or np.linspace(0, 1, 11)"
   ]
  },
  {
   "cell_type": "markdown",
   "metadata": {},
   "source": [
    "You can also do this with real numbers rather than integers."
   ]
  },
  {
   "cell_type": "code",
   "execution_count": 13,
   "metadata": {
    "name": "01-python-tools-ds-14"
   },
   "outputs": [
    {
     "data": {
      "text/plain": [
       "array([0.        , 0.6981317 , 1.3962634 , 2.0943951 , 2.7925268 ,\n",
       "       3.4906585 , 4.1887902 , 4.88692191, 5.58505361, 6.28318531])"
      ]
     },
     "execution_count": 13,
     "metadata": {},
     "output_type": "execute_result"
    }
   ],
   "source": [
    "np.linspace(start = 0, stop = 2*np.pi, num = 10)"
   ]
  },
  {
   "cell_type": "markdown",
   "metadata": {},
   "source": [
    "More generally, you can transform lists into `numpy` arrays. We saw this above for vectors. For matrices, you can provide a list of lists. Note the double `[` in front and back. "
   ]
  },
  {
   "cell_type": "code",
   "execution_count": 14,
   "metadata": {
    "name": "01-python-tools-ds-15"
   },
   "outputs": [
    {
     "data": {
      "text/plain": [
       "array([[1, 3, 5, 6],\n",
       "       [4, 3, 9, 7]])"
      ]
     },
     "execution_count": 14,
     "metadata": {},
     "output_type": "execute_result"
    }
   ],
   "source": [
    "np.array([[1,3,5,6],[4,3,9,7]])"
   ]
  },
  {
   "cell_type": "markdown",
   "metadata": {},
   "source": [
    "You can generate an array of 0's"
   ]
  },
  {
   "cell_type": "code",
   "execution_count": 15,
   "metadata": {
    "name": "01-python-tools-ds-16"
   },
   "outputs": [
    {
     "data": {
      "text/plain": [
       "array([0., 0., 0., 0., 0., 0., 0., 0., 0., 0.])"
      ]
     },
     "execution_count": 15,
     "metadata": {},
     "output_type": "execute_result"
    }
   ],
   "source": [
    "np.zeros(10)"
   ]
  },
  {
   "cell_type": "markdown",
   "metadata": {},
   "source": [
    "This can easily be extended to a two-dimensional array (a matrix), by specifying the dimension of the matrix as a tuple. "
   ]
  },
  {
   "cell_type": "code",
   "execution_count": 16,
   "metadata": {
    "name": "01-python-tools-ds-17"
   },
   "outputs": [
    {
     "data": {
      "text/plain": [
       "array([[0., 0., 0., 0., 0., 0., 0., 0., 0., 0.],\n",
       "       [0., 0., 0., 0., 0., 0., 0., 0., 0., 0.],\n",
       "       [0., 0., 0., 0., 0., 0., 0., 0., 0., 0.],\n",
       "       [0., 0., 0., 0., 0., 0., 0., 0., 0., 0.],\n",
       "       [0., 0., 0., 0., 0., 0., 0., 0., 0., 0.],\n",
       "       [0., 0., 0., 0., 0., 0., 0., 0., 0., 0.],\n",
       "       [0., 0., 0., 0., 0., 0., 0., 0., 0., 0.],\n",
       "       [0., 0., 0., 0., 0., 0., 0., 0., 0., 0.],\n",
       "       [0., 0., 0., 0., 0., 0., 0., 0., 0., 0.],\n",
       "       [0., 0., 0., 0., 0., 0., 0., 0., 0., 0.]])"
      ]
     },
     "execution_count": 16,
     "metadata": {},
     "output_type": "execute_result"
    }
   ],
   "source": [
    "np.zeros((10,10))"
   ]
  },
  {
   "cell_type": "markdown",
   "metadata": {},
   "source": [
    "You can also generate a matrix of 1s in a similar manner."
   ]
  },
  {
   "cell_type": "code",
   "execution_count": 17,
   "metadata": {
    "name": "01-python-tools-ds-18"
   },
   "outputs": [
    {
     "data": {
      "text/plain": [
       "array([[1., 1., 1., 1.],\n",
       "       [1., 1., 1., 1.],\n",
       "       [1., 1., 1., 1.]])"
      ]
     },
     "execution_count": 17,
     "metadata": {},
     "output_type": "execute_result"
    }
   ],
   "source": [
    "np.ones((3,4))"
   ]
  },
  {
   "cell_type": "markdown",
   "metadata": {},
   "source": [
    "In matrix algebra, the identity matrix is important. It is a square matrix with 1's on the diagonal and 0's everywhere else. "
   ]
  },
  {
   "cell_type": "code",
   "execution_count": 18,
   "metadata": {
    "name": "01-python-tools-ds-19"
   },
   "outputs": [
    {
     "data": {
      "text/plain": [
       "array([[1., 0., 0., 0.],\n",
       "       [0., 1., 0., 0.],\n",
       "       [0., 0., 1., 0.],\n",
       "       [0., 0., 0., 1.]])"
      ]
     },
     "execution_count": 18,
     "metadata": {},
     "output_type": "execute_result"
    }
   ],
   "source": [
    "np.eye(4)"
   ]
  },
  {
   "cell_type": "markdown",
   "metadata": {},
   "source": [
    "You can also create numpy vectors directly from lists, as long as lists are made up of atomic elements of the same type. This means a list of numbers or a list of strings. The elements can't be more composite structures, generally. One exception is a list of lists, where all the lists contain the same type of atomic data, which, as we will see, can be used to create a matrix or 2-dimensional array."
   ]
  },
  {
   "cell_type": "code",
   "execution_count": 19,
   "metadata": {
    "name": "01-python-tools-ds-20"
   },
   "outputs": [
    {
     "data": {
      "text/plain": [
       "array([1, 2, 3, 4, 5, 6, 7, 8])"
      ]
     },
     "execution_count": 19,
     "metadata": {},
     "output_type": "execute_result"
    }
   ],
   "source": [
    "a = [1,2,3,4,5,6,7,8]\n",
    "b = ['a','b','c','d','3']\n",
    "\n",
    "np.array(a)"
   ]
  },
  {
   "cell_type": "code",
   "execution_count": 20,
   "metadata": {
    "name": "01-python-tools-ds-21"
   },
   "outputs": [
    {
     "data": {
      "text/plain": [
       "array(['a', 'b', 'c', 'd', '3'], dtype='<U1')"
      ]
     },
     "execution_count": 20,
     "metadata": {},
     "output_type": "execute_result"
    }
   ],
   "source": [
    "np.array(b)"
   ]
  },
  {
   "cell_type": "markdown",
   "metadata": {},
   "source": [
    "#### Random numbers\n",
    "\n",
    "Generating random numbers is quite useful in many areas of data science. All computers don't produce truly random numbers but generate *pseudo-random* sequences. These are completely deterministic sequences defined algorithmically that emulate the properties of random numbers. Since these are deterministic, we can set a *seed* or starting value for the sequence, so that we can exactly reproduce this sequence to help debug our code. To actually see how things behave in simulations we will often run several sequences of random numbers starting at different seed values. \n",
    "\n",
    "The seed is set by the `RandomState` function within the `random` submodule of numpy. Note that all Python names are case-sensitive. "
   ]
  },
  {
   "cell_type": "code",
   "execution_count": 21,
   "metadata": {
    "name": "01-python-tools-ds-22"
   },
   "outputs": [
    {
     "data": {
      "text/plain": [
       "array([[9, 7, 1, 0],\n",
       "       [9, 8, 8, 8],\n",
       "       [9, 7, 7, 8]])"
      ]
     },
     "execution_count": 21,
     "metadata": {},
     "output_type": "execute_result"
    }
   ],
   "source": [
    "rng = np.random.RandomState(35) # set seed\n",
    "rng.randint(0, 10, (3,4))"
   ]
  },
  {
   "cell_type": "markdown",
   "metadata": {},
   "source": [
    "We have created a 3x4 matrix of random integers between 0 and 10 (in line with slicing rules, this includes 0 but not 10). \n",
    "\n",
    "We can also create a random sample of numbers between 0 and 1. "
   ]
  },
  {
   "cell_type": "code",
   "execution_count": 22,
   "metadata": {
    "name": "01-python-tools-ds-23"
   },
   "outputs": [
    {
     "data": {
      "text/plain": [
       "array([[0.04580216, 0.91259827],\n",
       "       [0.21381599, 0.3036373 ],\n",
       "       [0.98906362, 0.1858815 ],\n",
       "       [0.98872484, 0.75008423],\n",
       "       [0.22238605, 0.14790391]])"
      ]
     },
     "execution_count": 22,
     "metadata": {},
     "output_type": "execute_result"
    }
   ],
   "source": [
    "rng.random_sample((5,2))"
   ]
  },
  {
   "cell_type": "markdown",
   "metadata": {},
   "source": [
    "We'll see later how to generate random numbers from particular probability distributions. \n",
    "\n",
    "### Vectors and matrices\n",
    "\n",
    "Numpy generates arrays, which can be of arbitrary dimension. However the most useful are vectors (1-d arrays) and matrices (2-d arrays).\n",
    "\n",
    "In these examples, we will generate samples from the Normal (Gaussian) distribution, with mean 0 and variance 1. "
   ]
  },
  {
   "cell_type": "code",
   "execution_count": 23,
   "metadata": {
    "name": "01-python-tools-ds-24"
   },
   "outputs": [],
   "source": [
    "A = rng.normal(0,1,(4,5))"
   ]
  },
  {
   "cell_type": "markdown",
   "metadata": {},
   "source": [
    "We can compute some characteristics of this matrix's dimensions. The number of rows and columns are given by `shape`. "
   ]
  },
  {
   "cell_type": "code",
   "execution_count": 24,
   "metadata": {
    "name": "01-python-tools-ds-25"
   },
   "outputs": [
    {
     "data": {
      "text/plain": [
       "(4, 5)"
      ]
     },
     "execution_count": 24,
     "metadata": {},
     "output_type": "execute_result"
    }
   ],
   "source": [
    "A.shape"
   ]
  },
  {
   "cell_type": "markdown",
   "metadata": {},
   "source": [
    "The total number of elements are given by `size`. "
   ]
  },
  {
   "cell_type": "code",
   "execution_count": 25,
   "metadata": {
    "name": "01-python-tools-ds-26"
   },
   "outputs": [
    {
     "data": {
      "text/plain": [
       "20"
      ]
     },
     "execution_count": 25,
     "metadata": {},
     "output_type": "execute_result"
    }
   ],
   "source": [
    "A.size"
   ]
  },
  {
   "cell_type": "markdown",
   "metadata": {},
   "source": [
    "If we want to create a matrix of 0's with the same dimensions as `A`, we don't actually have to compute its dimensions. We can use the `zeros_like` function to figure it out."
   ]
  },
  {
   "cell_type": "code",
   "execution_count": 26,
   "metadata": {
    "name": "01-python-tools-ds-27"
   },
   "outputs": [
    {
     "data": {
      "text/plain": [
       "array([[0., 0., 0., 0., 0.],\n",
       "       [0., 0., 0., 0., 0.],\n",
       "       [0., 0., 0., 0., 0.],\n",
       "       [0., 0., 0., 0., 0.]])"
      ]
     },
     "execution_count": 26,
     "metadata": {},
     "output_type": "execute_result"
    }
   ],
   "source": [
    "np.zeros_like(A)"
   ]
  },
  {
   "cell_type": "markdown",
   "metadata": {},
   "source": [
    "We can also create vectors by only providing the number of rows to the random sampling function. The number of columns will be assumed to be 1. "
   ]
  },
  {
   "cell_type": "code",
   "execution_count": 27,
   "metadata": {
    "name": "01-python-tools-ds-28"
   },
   "outputs": [
    {
     "data": {
      "text/plain": [
       "array([-0.45495378,  1.04307172,  0.70451207, -0.6171649 ])"
      ]
     },
     "execution_count": 27,
     "metadata": {},
     "output_type": "execute_result"
    }
   ],
   "source": [
    "B = rng.normal(0, 1, (4,))\n",
    "B"
   ]
  },
  {
   "cell_type": "markdown",
   "metadata": {},
   "source": [
    "#### Extracting elements from arrays\n",
    "\n",
    "The syntax for extracting elements from arrays is almost exactly the same as for lists, with the same rules for slices.\n",
    "\n",
    "**Exercise:** State what elements of B are extracted by each of the following statements\n",
    "\n",
    "```\n",
    "B[:3]\n",
    "B[:-1]\n",
    "B[[0,2,4]]\n",
    "B[[0,2,5]]\n",
    "```\n",
    "\n",
    "For matrices, we have two dimensions, so you can slice by rows, or columns or both. "
   ]
  },
  {
   "cell_type": "code",
   "execution_count": 28,
   "metadata": {
    "name": "01-python-tools-ds-29"
   },
   "outputs": [
    {
     "data": {
      "text/plain": [
       "array([[-2.45677354,  0.36686697, -0.20453263, -0.54380446,  0.09524207],\n",
       "       [ 1.06236144,  1.03937554,  0.01247733, -0.35427727, -1.18997812],\n",
       "       [ 0.95554288,  0.30781478,  0.7328766 , -1.28670314, -1.03870027],\n",
       "       [-0.81398211, -1.02506031,  0.12407205,  1.21491023, -1.44645123]])"
      ]
     },
     "execution_count": 28,
     "metadata": {},
     "output_type": "execute_result"
    }
   ],
   "source": [
    "A"
   ]
  },
  {
   "cell_type": "markdown",
   "metadata": {},
   "source": [
    "We can extract the first column by specifying `:` (meaning everything) for the rows, and the index for the column (reminder, Python starts counting at 0)"
   ]
  },
  {
   "cell_type": "code",
   "execution_count": 29,
   "metadata": {
    "name": "01-python-tools-ds-30"
   },
   "outputs": [
    {
     "data": {
      "text/plain": [
       "array([-2.45677354,  1.06236144,  0.95554288, -0.81398211])"
      ]
     },
     "execution_count": 29,
     "metadata": {},
     "output_type": "execute_result"
    }
   ],
   "source": [
    "A[:,0]"
   ]
  },
  {
   "cell_type": "markdown",
   "metadata": {},
   "source": [
    "Similarly the 4th row can be extracted by putting the row index, and `:` for the column index. "
   ]
  },
  {
   "cell_type": "code",
   "execution_count": 30,
   "metadata": {
    "name": "01-python-tools-ds-31"
   },
   "outputs": [
    {
     "data": {
      "text/plain": [
       "array([-0.81398211, -1.02506031,  0.12407205,  1.21491023, -1.44645123])"
      ]
     },
     "execution_count": 30,
     "metadata": {},
     "output_type": "execute_result"
    }
   ],
   "source": [
    "A[3,:]"
   ]
  },
  {
   "cell_type": "markdown",
   "metadata": {},
   "source": [
    "All slicing operations work for rows and columns"
   ]
  },
  {
   "cell_type": "code",
   "execution_count": 31,
   "metadata": {
    "name": "01-python-tools-ds-32"
   },
   "outputs": [
    {
     "data": {
      "text/plain": [
       "array([[-2.45677354,  0.36686697],\n",
       "       [ 1.06236144,  1.03937554]])"
      ]
     },
     "execution_count": 31,
     "metadata": {},
     "output_type": "execute_result"
    }
   ],
   "source": [
    "A[:2,:2]"
   ]
  },
  {
   "cell_type": "markdown",
   "metadata": {},
   "source": [
    "#### Array operations\n",
    "\n",
    "We can do a variety of vector and matrix operations in `numpy`. \n",
    "\n",
    "First, all usual arithmetic operations work on arrays, like adding or multiplying an array with a scalar."
   ]
  },
  {
   "cell_type": "code",
   "execution_count": 32,
   "metadata": {
    "name": "01-python-tools-ds-33"
   },
   "outputs": [
    {
     "data": {
      "text/plain": [
       "array([[-0.15367796,  2.50215522,  0.19420725,  0.54928294, -1.1737166 ],\n",
       "       [ 1.11456557,  0.07447758,  1.58518354,  1.61986225, -0.24616333],\n",
       "       [-0.02682273,  0.2196577 ,  0.41680351, -0.86319929,  0.50355595]])"
      ]
     },
     "execution_count": 32,
     "metadata": {},
     "output_type": "execute_result"
    }
   ],
   "source": [
    "A = rng.randn(3,5)\n",
    "A"
   ]
  },
  {
   "cell_type": "code",
   "execution_count": 33,
   "metadata": {
    "name": "01-python-tools-ds-34"
   },
   "outputs": [
    {
     "data": {
      "text/plain": [
       "array([[ 9.84632204, 12.50215522, 10.19420725, 10.54928294,  8.8262834 ],\n",
       "       [11.11456557, 10.07447758, 11.58518354, 11.61986225,  9.75383667],\n",
       "       [ 9.97317727, 10.2196577 , 10.41680351,  9.13680071, 10.50355595]])"
      ]
     },
     "execution_count": 33,
     "metadata": {},
     "output_type": "execute_result"
    }
   ],
   "source": [
    "A + 10"
   ]
  },
  {
   "cell_type": "markdown",
   "metadata": {},
   "source": [
    "We can also add and multiply arrays __element-wise__ as long as they are the same shape."
   ]
  },
  {
   "cell_type": "code",
   "execution_count": 34,
   "metadata": {
    "name": "01-python-tools-ds-35"
   },
   "outputs": [
    {
     "data": {
      "text/plain": [
       "array([[6, 2, 3, 9, 8],\n",
       "       [5, 9, 3, 9, 7],\n",
       "       [0, 4, 2, 5, 0]])"
      ]
     },
     "execution_count": 34,
     "metadata": {},
     "output_type": "execute_result"
    }
   ],
   "source": [
    "B = rng.randint(0,10, (3,5))\n",
    "B"
   ]
  },
  {
   "cell_type": "code",
   "execution_count": 35,
   "metadata": {
    "name": "01-python-tools-ds-36"
   },
   "outputs": [
    {
     "data": {
      "text/plain": [
       "array([[ 5.84632204,  4.50215522,  3.19420725,  9.54928294,  6.8262834 ],\n",
       "       [ 6.11456557,  9.07447758,  4.58518354, 10.61986225,  6.75383667],\n",
       "       [-0.02682273,  4.2196577 ,  2.41680351,  4.13680071,  0.50355595]])"
      ]
     },
     "execution_count": 35,
     "metadata": {},
     "output_type": "execute_result"
    }
   ],
   "source": [
    "A + B"
   ]
  },
  {
   "cell_type": "code",
   "execution_count": 36,
   "metadata": {
    "name": "01-python-tools-ds-37"
   },
   "outputs": [
    {
     "data": {
      "text/plain": [
       "array([[-0.92206775,  5.00431043,  0.58262175,  4.94354649, -9.38973278],\n",
       "       [ 5.57282784,  0.67029821,  4.75555061, 14.57876027, -1.72314331],\n",
       "       [-0.        ,  0.8786308 ,  0.83360701, -4.31599644,  0.        ]])"
      ]
     },
     "execution_count": 36,
     "metadata": {},
     "output_type": "execute_result"
    }
   ],
   "source": [
    "A * B"
   ]
  },
  {
   "cell_type": "markdown",
   "metadata": {},
   "source": [
    "You can also do **matrix multiplication**. Recall what this is.\n",
    "\n",
    "If you have a matrix $A_{m x n}$ and another matrix $B_{n x p}$, as long as the number of columns of $A$ and rows of $B$ are the same, you can multiply them ($C_{m x p} = A_{m x n}B_{n x p}$), with the (i,j)-th element of C being\n",
    "\n",
    "$$ c_{ij} = \\sum_{k=1}^n a_{ik}b_{kj}, i= 1, \\dots, m; j = 1, \\dots, p$$\n",
    "\n",
    "In `numpy` the operant for matrix multiplication is `@`. \n",
    "\n",
    "In the above examples, `A` and `B` cannot be multiplied since they have incompatible dimensions. However, we can take the *transpose* of `B`, i.e. flip the rows and columns, to make it compatible with `A` for matrix multiplication."
   ]
  },
  {
   "cell_type": "code",
   "execution_count": 37,
   "metadata": {
    "name": "01-python-tools-ds-38"
   },
   "outputs": [
    {
     "data": {
      "text/plain": [
       "array([[ 0.21867814, 19.0611592 , 13.14345008],\n",
       "       [24.20135281, 23.85429363, 11.56758865],\n",
       "       [-2.21155643, -1.15068575, -2.60375863]])"
      ]
     },
     "execution_count": 37,
     "metadata": {},
     "output_type": "execute_result"
    }
   ],
   "source": [
    "A @ np.transpose(B)"
   ]
  },
  {
   "cell_type": "code",
   "execution_count": 38,
   "metadata": {
    "name": "01-python-tools-ds-39"
   },
   "outputs": [
    {
     "data": {
      "text/plain": [
       "array([[  4.65076009,   9.61644327,   2.82901737,   8.51387483,\n",
       "          6.57253531],\n",
       "       [ 15.38531919,   6.55323945,   8.16921379,  24.28798365,\n",
       "         20.53858478],\n",
       "       [  9.09116118,  16.32228035,   6.17177937,  18.0985346 ,\n",
       "         12.64994275],\n",
       "       [ 11.39500892,  12.22452901,   4.78103701,  15.20631032,\n",
       "         15.73329932],\n",
       "       [ -8.27311623,  -2.54867934,  -3.25252787, -10.26113957,\n",
       "        -11.11287609]])"
      ]
     },
     "execution_count": 38,
     "metadata": {},
     "output_type": "execute_result"
    }
   ],
   "source": [
    "np.transpose(A) @ B"
   ]
  },
  {
   "cell_type": "markdown",
   "metadata": {},
   "source": [
    "More generally, you can *reshape* a `numpy` array into a new shape, provided it is compatible with the number of elements in the original array."
   ]
  },
  {
   "cell_type": "code",
   "execution_count": 39,
   "metadata": {
    "name": "01-python-tools-ds-40"
   },
   "outputs": [
    {
     "data": {
      "text/plain": [
       "array([[0, 2, 0, 0],\n",
       "       [4, 0, 0, 4],\n",
       "       [0, 3, 2, 0],\n",
       "       [3, 0, 0, 3]])"
      ]
     },
     "execution_count": 39,
     "metadata": {},
     "output_type": "execute_result"
    }
   ],
   "source": [
    "D = rng.randint(0,5, (4,4))\n",
    "D"
   ]
  },
  {
   "cell_type": "code",
   "execution_count": 40,
   "metadata": {
    "name": "01-python-tools-ds-41"
   },
   "outputs": [
    {
     "data": {
      "text/plain": [
       "array([[0, 2],\n",
       "       [0, 0],\n",
       "       [4, 0],\n",
       "       [0, 4],\n",
       "       [0, 3],\n",
       "       [2, 0],\n",
       "       [3, 0],\n",
       "       [0, 3]])"
      ]
     },
     "execution_count": 40,
     "metadata": {},
     "output_type": "execute_result"
    }
   ],
   "source": [
    "D.reshape(8,2)"
   ]
  },
  {
   "cell_type": "code",
   "execution_count": 41,
   "metadata": {
    "name": "01-python-tools-ds-42"
   },
   "outputs": [
    {
     "data": {
      "text/plain": [
       "array([[0, 2, 0, 0, 4, 0, 0, 4, 0, 3, 2, 0, 3, 0, 0, 3]])"
      ]
     },
     "execution_count": 41,
     "metadata": {},
     "output_type": "execute_result"
    }
   ],
   "source": [
    "D.reshape(1,16)"
   ]
  },
  {
   "cell_type": "markdown",
   "metadata": {},
   "source": [
    "This can also be used to cast a vector into a matrix. "
   ]
  },
  {
   "cell_type": "code",
   "execution_count": 42,
   "metadata": {
    "name": "01-python-tools-ds-43"
   },
   "outputs": [
    {
     "data": {
      "text/plain": [
       "array([[ 0,  1,  2,  3],\n",
       "       [ 4,  5,  6,  7],\n",
       "       [ 8,  9, 10, 11],\n",
       "       [12, 13, 14, 15],\n",
       "       [16, 17, 18, 19]])"
      ]
     },
     "execution_count": 42,
     "metadata": {},
     "output_type": "execute_result"
    }
   ],
   "source": [
    "e = np.arange(20)\n",
    "E = e.reshape(5,4)\n",
    "E"
   ]
  },
  {
   "cell_type": "markdown",
   "metadata": {},
   "source": [
    "> One thing to note in all the reshaping operations above is that the new array takes elements of the old array **by row**. See the examples above to convince yourself of that. \n"
   ]
  },
  {
   "cell_type": "markdown",
   "metadata": {},
   "source": [
    "#### Statistical operations on arrays\n",
    "\n",
    "You can sum all the elements of a matrix using `sum`. You can also sum along rows or along columns by adding an argument to the `sum` function. "
   ]
  },
  {
   "cell_type": "code",
   "execution_count": 43,
   "metadata": {
    "name": "01-python-tools-ds-44"
   },
   "outputs": [
    {
     "data": {
      "text/plain": [
       "array([[-1.60798054, -0.05162306],\n",
       "       [-0.49218049, -0.1262316 ],\n",
       "       [ 0.56927597,  0.05438786],\n",
       "       [ 0.33120322, -0.81820729]])"
      ]
     },
     "execution_count": 43,
     "metadata": {},
     "output_type": "execute_result"
    }
   ],
   "source": [
    "A = rng.normal(0, 1, (4,2))\n",
    "A"
   ]
  },
  {
   "cell_type": "code",
   "execution_count": 44,
   "metadata": {
    "name": "01-python-tools-ds-45"
   },
   "outputs": [
    {
     "data": {
      "text/plain": [
       "-2.141355938226197"
      ]
     },
     "execution_count": 44,
     "metadata": {},
     "output_type": "execute_result"
    }
   ],
   "source": [
    "A.sum()"
   ]
  },
  {
   "cell_type": "markdown",
   "metadata": {},
   "source": [
    "You can sum along rows (i.e., down columns) with the option `axis = 0`"
   ]
  },
  {
   "cell_type": "code",
   "execution_count": 45,
   "metadata": {
    "name": "01-python-tools-ds-46"
   },
   "outputs": [
    {
     "data": {
      "text/plain": [
       "array([-1.19968185, -0.94167409])"
      ]
     },
     "execution_count": 45,
     "metadata": {},
     "output_type": "execute_result"
    }
   ],
   "source": [
    "A.sum(axis=0)"
   ]
  },
  {
   "cell_type": "markdown",
   "metadata": {},
   "source": [
    "You can sum along columns (i.e., across rows) with `axis = 1`."
   ]
  },
  {
   "cell_type": "code",
   "execution_count": 46,
   "metadata": {
    "name": "01-python-tools-ds-47"
   },
   "outputs": [
    {
     "data": {
      "text/plain": [
       "array([-1.6596036 , -0.61841209,  0.62366383, -0.48700407])"
      ]
     },
     "execution_count": 46,
     "metadata": {},
     "output_type": "execute_result"
    }
   ],
   "source": [
    "A.sum(axis=1)"
   ]
  },
  {
   "cell_type": "markdown",
   "metadata": {},
   "source": [
    "> Of course, you can use the usual function calls: `np.sum(A, axis = 1)`"
   ]
  },
  {
   "cell_type": "markdown",
   "metadata": {},
   "source": [
    "We can also find the minimum and maximum values."
   ]
  },
  {
   "cell_type": "code",
   "execution_count": 47,
   "metadata": {
    "name": "01-python-tools-ds-48"
   },
   "outputs": [
    {
     "data": {
      "text/plain": [
       "array([-1.60798054, -0.81820729])"
      ]
     },
     "execution_count": 47,
     "metadata": {},
     "output_type": "execute_result"
    }
   ],
   "source": [
    "A.min(axis = 0)"
   ]
  },
  {
   "cell_type": "code",
   "execution_count": 48,
   "metadata": {
    "name": "01-python-tools-ds-49"
   },
   "outputs": [
    {
     "data": {
      "text/plain": [
       "array([0.56927597, 0.05438786])"
      ]
     },
     "execution_count": 48,
     "metadata": {},
     "output_type": "execute_result"
    }
   ],
   "source": [
    "A.max(axis = 0)"
   ]
  },
  {
   "cell_type": "markdown",
   "metadata": {},
   "source": [
    "We can also find the **position** where the minimum and maximum values occur."
   ]
  },
  {
   "cell_type": "code",
   "execution_count": 49,
   "metadata": {
    "name": "01-python-tools-ds-50"
   },
   "outputs": [
    {
     "data": {
      "text/plain": [
       "array([0, 3])"
      ]
     },
     "execution_count": 49,
     "metadata": {},
     "output_type": "execute_result"
    }
   ],
   "source": [
    "A.argmin(axis=0)"
   ]
  },
  {
   "cell_type": "code",
   "execution_count": 50,
   "metadata": {
    "name": "01-python-tools-ds-51"
   },
   "outputs": [
    {
     "data": {
      "text/plain": [
       "array([2, 2])"
      ]
     },
     "execution_count": 50,
     "metadata": {},
     "output_type": "execute_result"
    }
   ],
   "source": [
    "A.argmax(axis=0)"
   ]
  },
  {
   "cell_type": "markdown",
   "metadata": {},
   "source": [
    "We can sort arrays and also find the indices which will result in the sorted array. I'll demonstrate this for a vector, where it is more relevant"
   ]
  },
  {
   "cell_type": "code",
   "execution_count": 51,
   "metadata": {
    "name": "01-python-tools-ds-52"
   },
   "outputs": [
    {
     "data": {
      "text/plain": [
       "array([9, 2, 6, 6, 4, 4, 3, 4])"
      ]
     },
     "execution_count": 51,
     "metadata": {},
     "output_type": "execute_result"
    }
   ],
   "source": [
    "a = rng.randint(0,10, 8)\n",
    "a"
   ]
  },
  {
   "cell_type": "code",
   "execution_count": 52,
   "metadata": {
    "name": "01-python-tools-ds-53"
   },
   "outputs": [
    {
     "data": {
      "text/plain": [
       "array([2, 3, 4, 4, 4, 6, 6, 9])"
      ]
     },
     "execution_count": 52,
     "metadata": {},
     "output_type": "execute_result"
    }
   ],
   "source": [
    "np.sort(a)"
   ]
  },
  {
   "cell_type": "code",
   "execution_count": 53,
   "metadata": {
    "name": "01-python-tools-ds-54"
   },
   "outputs": [
    {
     "data": {
      "text/plain": [
       "array([1, 6, 4, 5, 7, 2, 3, 0])"
      ]
     },
     "execution_count": 53,
     "metadata": {},
     "output_type": "execute_result"
    }
   ],
   "source": [
    "np.argsort(a)"
   ]
  },
  {
   "cell_type": "code",
   "execution_count": 54,
   "metadata": {
    "name": "01-python-tools-ds-55"
   },
   "outputs": [
    {
     "data": {
      "text/plain": [
       "array([2, 3, 4, 4, 4, 6, 6, 9])"
      ]
     },
     "execution_count": 54,
     "metadata": {},
     "output_type": "execute_result"
    }
   ],
   "source": [
    "a[np.argsort(a)]"
   ]
  },
  {
   "cell_type": "markdown",
   "metadata": {},
   "source": [
    "`np.argsort` can also help you find the 2nd smallest or 3rd largest value in an array, too."
   ]
  },
  {
   "cell_type": "code",
   "execution_count": 55,
   "metadata": {
    "name": "01-python-tools-ds-56"
   },
   "outputs": [
    {
     "data": {
      "text/plain": [
       "3"
      ]
     },
     "execution_count": 55,
     "metadata": {},
     "output_type": "execute_result"
    }
   ],
   "source": [
    "ind_2nd_smallest = np.argsort(a)[1]\n",
    "a[ind_2nd_smallest]"
   ]
  },
  {
   "cell_type": "code",
   "execution_count": 56,
   "metadata": {
    "name": "01-python-tools-ds-57"
   },
   "outputs": [
    {
     "data": {
      "text/plain": [
       "6"
      ]
     },
     "execution_count": 56,
     "metadata": {},
     "output_type": "execute_result"
    }
   ],
   "source": [
    "ind_3rd_largest = np.argsort(a)[-3]\n",
    "a[ind_3rd_largest]"
   ]
  },
  {
   "cell_type": "markdown",
   "metadata": {},
   "source": [
    "You can also sort strings in this way."
   ]
  },
  {
   "cell_type": "code",
   "execution_count": 57,
   "metadata": {
    "name": "01-python-tools-ds-58"
   },
   "outputs": [
    {
     "data": {
      "text/plain": [
       "array(['Aram', 'Donald', 'Elizabeth', 'Harold', 'Raymond'], dtype='<U9')"
      ]
     },
     "execution_count": 57,
     "metadata": {},
     "output_type": "execute_result"
    }
   ],
   "source": [
    "m = np.array(['Aram','Raymond','Elizabeth','Donald','Harold'])\n",
    "np.sort(m)"
   ]
  },
  {
   "cell_type": "markdown",
   "metadata": {},
   "source": [
    "If you want to sort arrays **in place**, you can use the `sort` function in a different way."
   ]
  },
  {
   "cell_type": "code",
   "execution_count": 58,
   "metadata": {
    "name": "01-python-tools-ds-59"
   },
   "outputs": [
    {
     "data": {
      "text/plain": [
       "array(['Aram', 'Donald', 'Elizabeth', 'Harold', 'Raymond'], dtype='<U9')"
      ]
     },
     "execution_count": 58,
     "metadata": {},
     "output_type": "execute_result"
    }
   ],
   "source": [
    "m.sort()\n",
    "m"
   ]
  },
  {
   "cell_type": "markdown",
   "metadata": {},
   "source": [
    "#### Putting arrays together\n",
    "\n",
    "We can put arrays together by row or column, provided the corresponding axes have compatible lengths. "
   ]
  },
  {
   "cell_type": "code",
   "execution_count": 59,
   "metadata": {
    "name": "01-python-tools-ds-60"
   },
   "outputs": [
    {
     "name": "stdout",
     "output_type": "stream",
     "text": [
      "A =  [[3 4 2 1 3]\n",
      " [0 3 1 1 1]\n",
      " [4 0 2 0 4]]\n",
      "B =  [[1 4 2 1 3]\n",
      " [2 0 3 2 0]\n",
      " [4 0 2 3 3]]\n"
     ]
    }
   ],
   "source": [
    "A = rng.randint(0,5, (3,5))\n",
    "B = rng.randint(0,5, (3,5))\n",
    "print('A = ', A)\n",
    "print('B = ', B)"
   ]
  },
  {
   "cell_type": "code",
   "execution_count": 60,
   "metadata": {
    "name": "01-python-tools-ds-61"
   },
   "outputs": [
    {
     "data": {
      "text/plain": [
       "array([[3, 4, 2, 1, 3, 1, 4, 2, 1, 3],\n",
       "       [0, 3, 1, 1, 1, 2, 0, 3, 2, 0],\n",
       "       [4, 0, 2, 0, 4, 4, 0, 2, 3, 3]])"
      ]
     },
     "execution_count": 60,
     "metadata": {},
     "output_type": "execute_result"
    }
   ],
   "source": [
    "np.hstack((A,B))"
   ]
  },
  {
   "cell_type": "code",
   "execution_count": 61,
   "metadata": {
    "name": "01-python-tools-ds-62"
   },
   "outputs": [
    {
     "data": {
      "text/plain": [
       "array([[3, 4, 2, 1, 3],\n",
       "       [0, 3, 1, 1, 1],\n",
       "       [4, 0, 2, 0, 4],\n",
       "       [1, 4, 2, 1, 3],\n",
       "       [2, 0, 3, 2, 0],\n",
       "       [4, 0, 2, 3, 3]])"
      ]
     },
     "execution_count": 61,
     "metadata": {},
     "output_type": "execute_result"
    }
   ],
   "source": [
    "np.vstack((A,B))"
   ]
  },
  {
   "cell_type": "markdown",
   "metadata": {},
   "source": [
    "Note that both `hstack` and `vstack` take a **tuple** of arrays as input."
   ]
  },
  {
   "cell_type": "markdown",
   "metadata": {},
   "source": [
    "#### Logical/Boolean operations\n",
    "\n",
    "You can query a matrix to see which elements meet some criterion. In this example, we'll see which elements are negative."
   ]
  },
  {
   "cell_type": "code",
   "execution_count": 62,
   "metadata": {
    "name": "01-python-tools-ds-63"
   },
   "outputs": [
    {
     "data": {
      "text/plain": [
       "array([[False, False, False, False, False],\n",
       "       [False, False, False, False, False],\n",
       "       [False, False, False, False, False]])"
      ]
     },
     "execution_count": 62,
     "metadata": {},
     "output_type": "execute_result"
    }
   ],
   "source": [
    "A < 0"
   ]
  },
  {
   "cell_type": "markdown",
   "metadata": {},
   "source": [
    "This is called **masking**, and is useful in many contexts. \n",
    "\n",
    "We can extract all the negative elements of A using"
   ]
  },
  {
   "cell_type": "code",
   "execution_count": 63,
   "metadata": {
    "name": "01-python-tools-ds-64"
   },
   "outputs": [
    {
     "data": {
      "text/plain": [
       "array([], dtype=int64)"
      ]
     },
     "execution_count": 63,
     "metadata": {},
     "output_type": "execute_result"
    }
   ],
   "source": [
    "A[A<0]"
   ]
  },
  {
   "cell_type": "markdown",
   "metadata": {},
   "source": [
    "This forms a 1-d array. You can also count the number of elements that meet the criterion"
   ]
  },
  {
   "cell_type": "code",
   "execution_count": 64,
   "metadata": {
    "name": "01-python-tools-ds-65"
   },
   "outputs": [
    {
     "data": {
      "text/plain": [
       "0"
      ]
     },
     "execution_count": 64,
     "metadata": {},
     "output_type": "execute_result"
    }
   ],
   "source": [
    "np.sum(A<0)"
   ]
  },
  {
   "cell_type": "markdown",
   "metadata": {},
   "source": [
    "Since the entity `A<0` is a matrix as well, we can do row-wise and column-wise operations as well. "
   ]
  },
  {
   "cell_type": "markdown",
   "metadata": {},
   "source": [
    "### Beware of copies\n",
    "\n",
    "One has to be a bit careful with copying objects in Python. By default, if you just assign one object to a new name, it does a *shallow copy*, which means that both names point to the same memory. So if you change something in the original, it also changes in the new copy. "
   ]
  },
  {
   "cell_type": "code",
   "execution_count": 65,
   "metadata": {
    "name": "01-python-tools-ds-66"
   },
   "outputs": [
    {
     "data": {
      "text/plain": [
       "array([3, 4, 2, 1, 3])"
      ]
     },
     "execution_count": 65,
     "metadata": {},
     "output_type": "execute_result"
    }
   ],
   "source": [
    "A[0,:]"
   ]
  },
  {
   "cell_type": "code",
   "execution_count": 66,
   "metadata": {
    "name": "01-python-tools-ds-67"
   },
   "outputs": [
    {
     "data": {
      "text/plain": [
       "4"
      ]
     },
     "execution_count": 66,
     "metadata": {},
     "output_type": "execute_result"
    }
   ],
   "source": [
    "A1 = A\n",
    "A1[0,0] = 4\n",
    "A[0,0]"
   ]
  },
  {
   "cell_type": "markdown",
   "metadata": {},
   "source": [
    "To actually create a copy that is not linked back to the original, you have to make a *deep copy*, which creates a new space in memory and a new pointer, and copies the original object to the new memory location"
   ]
  },
  {
   "cell_type": "code",
   "execution_count": 67,
   "metadata": {
    "name": "01-python-tools-ds-68"
   },
   "outputs": [
    {
     "data": {
      "text/plain": [
       "4"
      ]
     },
     "execution_count": 67,
     "metadata": {},
     "output_type": "execute_result"
    }
   ],
   "source": [
    "A1 = A.copy()\n",
    "A1[0,0] = 6\n",
    "A[0,0]"
   ]
  },
  {
   "cell_type": "markdown",
   "metadata": {},
   "source": [
    "You can also replace sub-matrices of a matrix with new data, provided that the dimensions are compatible. (Make sure that the sub-matrix we are replacing below truly has 2 rows and 2 columns, which is what `np.eye(2)` will produce)"
   ]
  },
  {
   "cell_type": "code",
   "execution_count": 68,
   "metadata": {
    "name": "01-python-tools-ds-69"
   },
   "outputs": [
    {
     "data": {
      "text/plain": [
       "array([[1, 0, 2, 1, 3],\n",
       "       [0, 1, 1, 1, 1],\n",
       "       [4, 0, 2, 0, 4]])"
      ]
     },
     "execution_count": 68,
     "metadata": {},
     "output_type": "execute_result"
    }
   ],
   "source": [
    "A[:2,:2] = np.eye(2)\n",
    "A"
   ]
  },
  {
   "cell_type": "markdown",
   "metadata": {},
   "source": [
    "#### Reducing matrix dimensions\n",
    "\n",
    "Sometimes the output of some operation ends up being a matrix of one column or one row. We can reduce it to become a vector. There are two functions that can do that, `flatten` and `ravel`. "
   ]
  },
  {
   "cell_type": "code",
   "execution_count": 69,
   "metadata": {
    "name": "01-python-tools-ds-70"
   },
   "outputs": [
    {
     "data": {
      "text/plain": [
       "array([[2],\n",
       "       [1],\n",
       "       [4],\n",
       "       [2],\n",
       "       [4]])"
      ]
     },
     "execution_count": 69,
     "metadata": {},
     "output_type": "execute_result"
    }
   ],
   "source": [
    "A = rng.randint(0,5, (5,1))\n",
    "A"
   ]
  },
  {
   "cell_type": "code",
   "execution_count": 70,
   "metadata": {
    "name": "01-python-tools-ds-71"
   },
   "outputs": [
    {
     "data": {
      "text/plain": [
       "array([2, 1, 4, 2, 4])"
      ]
     },
     "execution_count": 70,
     "metadata": {},
     "output_type": "execute_result"
    }
   ],
   "source": [
    "A.flatten()"
   ]
  },
  {
   "cell_type": "code",
   "execution_count": 71,
   "metadata": {
    "name": "01-python-tools-ds-72"
   },
   "outputs": [
    {
     "data": {
      "text/plain": [
       "array([2, 1, 4, 2, 4])"
      ]
     },
     "execution_count": 71,
     "metadata": {},
     "output_type": "execute_result"
    }
   ],
   "source": [
    "A.ravel()"
   ]
  },
  {
   "cell_type": "markdown",
   "metadata": {},
   "source": [
    "So why two functions? I'm not sure, but they do different things behind the scenes. `flatten` creates a **copy**, i.e. a new array disconnected from `A`. `ravel` creates a **view**, so a representation of the original array. If you then changed a value after a `ravel` operation, you would also change it in the original array; if you did this after a `flatten` operation, you would not. "
   ]
  },
  {
   "cell_type": "markdown",
   "metadata": {},
   "source": [
    "### Broadcasting in Python"
   ]
  },
  {
   "cell_type": "markdown",
   "metadata": {},
   "source": [
    "Python deals with arrays in an interesting way, in terms of matching up dimensions of arrays for arithmetic operations. There are 3 rules:\n",
    "\n",
    "1. If two arrays differ in the number of dimensions, the shape of the smaller array is padded with 1s on its _left_ side\n",
    "2. If the shape doesn't match in any dimension, the array with shape = 1 in that dimension is stretched to match the others' shape\n",
    "3. If in any dimension the sizes disagree and none of the sizes are 1, then an error is generated"
   ]
  },
  {
   "cell_type": "code",
   "execution_count": 72,
   "metadata": {
    "name": "01-python-tools-ds-73"
   },
   "outputs": [],
   "source": [
    "A = rng.normal(0,1,(4,5))\n",
    "B = rng.normal(0,1,5)"
   ]
  },
  {
   "cell_type": "code",
   "execution_count": 73,
   "metadata": {
    "name": "01-python-tools-ds-74"
   },
   "outputs": [
    {
     "data": {
      "text/plain": [
       "(4, 5)"
      ]
     },
     "execution_count": 73,
     "metadata": {},
     "output_type": "execute_result"
    }
   ],
   "source": [
    "A.shape"
   ]
  },
  {
   "cell_type": "code",
   "execution_count": 74,
   "metadata": {
    "name": "01-python-tools-ds-75"
   },
   "outputs": [
    {
     "data": {
      "text/plain": [
       "(5,)"
      ]
     },
     "execution_count": 74,
     "metadata": {},
     "output_type": "execute_result"
    }
   ],
   "source": [
    "B.shape"
   ]
  },
  {
   "cell_type": "code",
   "execution_count": 75,
   "metadata": {
    "name": "01-python-tools-ds-76"
   },
   "outputs": [
    {
     "data": {
      "text/plain": [
       "array([[ 0.25410957,  1.89009891, -0.87300221, -0.17852271, -0.64735645],\n",
       "       [ 0.72991872,  4.58821268, -0.03379553, -1.67352398,  1.43345867],\n",
       "       [-1.51421293,  1.69993003,  1.81140727, -1.71622014,  0.52276992],\n",
       "       [-1.30611819,  3.29767231,  0.91060221,  0.29490453,  1.24919619]])"
      ]
     },
     "execution_count": 75,
     "metadata": {},
     "output_type": "execute_result"
    }
   ],
   "source": [
    "A - B"
   ]
  },
  {
   "cell_type": "markdown",
   "metadata": {},
   "source": [
    "B is 1-d, A is 2-d, so B's shape is made into (1,5) (added to the left). Then it is repeated into 4 rows to make it's shape (4,5), then the operation is performed. This means that we subtract the first element of B from the first column of A, the second element of B from the second column of A, and so on."
   ]
  },
  {
   "cell_type": "markdown",
   "metadata": {},
   "source": [
    "You can be explicit about adding dimensions for broadcasting by using `np.newaxis`."
   ]
  },
  {
   "cell_type": "code",
   "execution_count": 76,
   "metadata": {
    "name": "01-python-tools-ds-77"
   },
   "outputs": [
    {
     "data": {
      "text/plain": [
       "(1, 5)"
      ]
     },
     "execution_count": 76,
     "metadata": {},
     "output_type": "execute_result"
    }
   ],
   "source": [
    "B[np.newaxis,:].shape"
   ]
  },
  {
   "cell_type": "code",
   "execution_count": 77,
   "metadata": {
    "name": "01-python-tools-ds-78"
   },
   "outputs": [
    {
     "data": {
      "text/plain": [
       "(5, 1)"
      ]
     },
     "execution_count": 77,
     "metadata": {},
     "output_type": "execute_result"
    }
   ],
   "source": [
    "B[:,np.newaxis].shape"
   ]
  },
  {
   "cell_type": "markdown",
   "metadata": {},
   "source": [
    "#### An example (optional, intermediate/advanced))\n",
    "\n",
    "This can be very useful, since these operations are faster than for loops. For example:"
   ]
  },
  {
   "cell_type": "code",
   "execution_count": 78,
   "metadata": {
    "name": "01-python-tools-ds-79"
   },
   "outputs": [
    {
     "data": {
      "text/plain": [
       "array([[0.9497432 , 0.22672332],\n",
       "       [0.96319737, 0.61011348],\n",
       "       [0.2542308 , 0.60550727],\n",
       "       [0.64054935, 0.85273037],\n",
       "       [0.19747218, 0.45957414],\n",
       "       [0.41571736, 0.9902779 ],\n",
       "       [0.33720945, 0.30637872],\n",
       "       [0.15139082, 0.30126537],\n",
       "       [0.72158605, 0.3560211 ],\n",
       "       [0.86288412, 0.66608767]])"
      ]
     },
     "execution_count": 78,
     "metadata": {},
     "output_type": "execute_result"
    }
   ],
   "source": [
    "d = rng.random_sample((10,2))\n",
    "d"
   ]
  },
  {
   "cell_type": "markdown",
   "metadata": {},
   "source": [
    "We want to find the Euclidean distance (the sum of squared differences) between the points defined by the rows. This should result in a 10x10 distance matrix"
   ]
  },
  {
   "cell_type": "code",
   "execution_count": 79,
   "metadata": {
    "name": "01-python-tools-ds-80"
   },
   "outputs": [
    {
     "data": {
      "text/plain": [
       "(10, 2)"
      ]
     },
     "execution_count": 79,
     "metadata": {},
     "output_type": "execute_result"
    }
   ],
   "source": [
    "d.shape"
   ]
  },
  {
   "cell_type": "code",
   "execution_count": 80,
   "metadata": {
    "name": "01-python-tools-ds-81"
   },
   "outputs": [
    {
     "data": {
      "text/plain": [
       "array([[[0.9497432 , 0.22672332],\n",
       "        [0.96319737, 0.61011348],\n",
       "        [0.2542308 , 0.60550727],\n",
       "        [0.64054935, 0.85273037],\n",
       "        [0.19747218, 0.45957414],\n",
       "        [0.41571736, 0.9902779 ],\n",
       "        [0.33720945, 0.30637872],\n",
       "        [0.15139082, 0.30126537],\n",
       "        [0.72158605, 0.3560211 ],\n",
       "        [0.86288412, 0.66608767]]])"
      ]
     },
     "execution_count": 80,
     "metadata": {},
     "output_type": "execute_result"
    }
   ],
   "source": [
    "d[np.newaxis,:,:]"
   ]
  },
  {
   "cell_type": "markdown",
   "metadata": {},
   "source": [
    "creates a 3-d array with the first dimension being of length 1"
   ]
  },
  {
   "cell_type": "code",
   "execution_count": 81,
   "metadata": {
    "name": "01-python-tools-ds-82"
   },
   "outputs": [
    {
     "data": {
      "text/plain": [
       "(1, 10, 2)"
      ]
     },
     "execution_count": 81,
     "metadata": {},
     "output_type": "execute_result"
    }
   ],
   "source": [
    "d[np.newaxis,:,:].shape"
   ]
  },
  {
   "cell_type": "code",
   "execution_count": 82,
   "metadata": {
    "name": "01-python-tools-ds-83"
   },
   "outputs": [
    {
     "data": {
      "text/plain": [
       "array([[[0.9497432 , 0.22672332]],\n",
       "\n",
       "       [[0.96319737, 0.61011348]],\n",
       "\n",
       "       [[0.2542308 , 0.60550727]],\n",
       "\n",
       "       [[0.64054935, 0.85273037]],\n",
       "\n",
       "       [[0.19747218, 0.45957414]],\n",
       "\n",
       "       [[0.41571736, 0.9902779 ]],\n",
       "\n",
       "       [[0.33720945, 0.30637872]],\n",
       "\n",
       "       [[0.15139082, 0.30126537]],\n",
       "\n",
       "       [[0.72158605, 0.3560211 ]],\n",
       "\n",
       "       [[0.86288412, 0.66608767]]])"
      ]
     },
     "execution_count": 82,
     "metadata": {},
     "output_type": "execute_result"
    }
   ],
   "source": [
    "d[:, np.newaxis,:]"
   ]
  },
  {
   "cell_type": "markdown",
   "metadata": {},
   "source": [
    "creates a 3-d array with the 2nd dimension being of length 1"
   ]
  },
  {
   "cell_type": "code",
   "execution_count": 83,
   "metadata": {
    "name": "01-python-tools-ds-84"
   },
   "outputs": [
    {
     "data": {
      "text/plain": [
       "(10, 1, 2)"
      ]
     },
     "execution_count": 83,
     "metadata": {},
     "output_type": "execute_result"
    }
   ],
   "source": [
    "d[:,np.newaxis,:].shape"
   ]
  },
  {
   "cell_type": "markdown",
   "metadata": {},
   "source": [
    "Now for the trick, using broadcasting of arrays. These two arrays are incompatible without broadcasting, but with broadcasting, the right things get repeated to make things compatible"
   ]
  },
  {
   "cell_type": "code",
   "execution_count": 84,
   "metadata": {
    "name": "01-python-tools-ds-85"
   },
   "outputs": [],
   "source": [
    "dist_sq = np.sum((d[:,np.newaxis,:] - d[np.newaxis,:,:]) ** 2)"
   ]
  },
  {
   "cell_type": "code",
   "execution_count": 85,
   "metadata": {
    "name": "01-python-tools-ds-86"
   },
   "outputs": [
    {
     "data": {
      "text/plain": [
       "()"
      ]
     },
     "execution_count": 85,
     "metadata": {},
     "output_type": "execute_result"
    }
   ],
   "source": [
    "dist_sq.shape"
   ]
  },
  {
   "cell_type": "code",
   "execution_count": 86,
   "metadata": {
    "name": "01-python-tools-ds-87"
   },
   "outputs": [
    {
     "data": {
      "text/plain": [
       "29.512804540441067"
      ]
     },
     "execution_count": 86,
     "metadata": {},
     "output_type": "execute_result"
    }
   ],
   "source": [
    "dist_sq"
   ]
  },
  {
   "cell_type": "markdown",
   "metadata": {},
   "source": [
    "Whoops! we wanted a 10x10 matrix, not a scalar. "
   ]
  },
  {
   "cell_type": "code",
   "execution_count": 87,
   "metadata": {
    "name": "01-python-tools-ds-88"
   },
   "outputs": [
    {
     "data": {
      "text/plain": [
       "(10, 10, 2)"
      ]
     },
     "execution_count": 87,
     "metadata": {},
     "output_type": "execute_result"
    }
   ],
   "source": [
    "(d[:,np.newaxis,:] - d[np.newaxis,:,:]).shape"
   ]
  },
  {
   "cell_type": "markdown",
   "metadata": {},
   "source": [
    "What we really want is the 10x10 distance matrix. "
   ]
  },
  {
   "cell_type": "code",
   "execution_count": 88,
   "metadata": {
    "name": "01-python-tools-ds-89"
   },
   "outputs": [],
   "source": [
    "dist_sq = np.sum((d[:,np.newaxis,:] - d[np.newaxis,:,:]) ** 2, axis=2)"
   ]
  },
  {
   "cell_type": "markdown",
   "metadata": {},
   "source": [
    "You can verify what is happening by creating `D = d[:,np.newaxis,:]-d[np.newaxis,:,:]` and then looking at `D[:,:,0]` and `D[:,:,1]`. These are the difference between each combination in the first and second columns of d, respectively. Squaring and summing along the 3rd axis then gives the sum of squared differences. "
   ]
  },
  {
   "cell_type": "code",
   "execution_count": 89,
   "metadata": {
    "name": "01-python-tools-ds-90"
   },
   "outputs": [
    {
     "data": {
      "text/plain": [
       "array([[0.        , 0.14716903, 0.62721478, 0.48748566, 0.6201312 ,\n",
       "        0.8681992 , 0.38154258, 0.64292305, 0.0687736 , 0.20058553],\n",
       "       [0.14716903, 0.        , 0.5026548 , 0.16296469, 0.60899716,\n",
       "        0.44425934, 0.48411568, 0.75441703, 0.12293897, 0.01319586],\n",
       "       [0.62721478, 0.5026548 , 0.        , 0.21036128, 0.02451802,\n",
       "        0.17412634, 0.09636334, 0.1031392 , 0.28066428, 0.37412884],\n",
       "       [0.48748566, 0.16296469, 0.21036128, 0.        , 0.35088921,\n",
       "        0.06946875, 0.39051522, 0.54338972, 0.25328705, 0.08426824],\n",
       "       [0.6201312 , 0.60899716, 0.02451802, 0.35088921, 0.        ,\n",
       "        0.32927744, 0.04299534, 0.02718516, 0.28541859, 0.48542089],\n",
       "       [0.8681992 , 0.44425934, 0.17412634, 0.06946875, 0.32927744,\n",
       "        0.        , 0.47388157, 0.54460678, 0.49583735, 0.30505741],\n",
       "       [0.38154258, 0.48411568, 0.09636334, 0.39051522, 0.04299534,\n",
       "        0.47388157, 0.        , 0.03455471, 0.15020974, 0.40572438],\n",
       "       [0.64292305, 0.75441703, 0.1031392 , 0.54338972, 0.02718516,\n",
       "        0.54460678, 0.03455471, 0.        , 0.3281208 , 0.63931803],\n",
       "       [0.0687736 , 0.12293897, 0.28066428, 0.25328705, 0.28541859,\n",
       "        0.49583735, 0.15020974, 0.3281208 , 0.        , 0.11610642],\n",
       "       [0.20058553, 0.01319586, 0.37412884, 0.08426824, 0.48542089,\n",
       "        0.30505741, 0.40572438, 0.63931803, 0.11610642, 0.        ]])"
      ]
     },
     "execution_count": 89,
     "metadata": {},
     "output_type": "execute_result"
    }
   ],
   "source": [
    "dist_sq"
   ]
  },
  {
   "cell_type": "code",
   "execution_count": 90,
   "metadata": {
    "name": "01-python-tools-ds-91"
   },
   "outputs": [
    {
     "data": {
      "text/plain": [
       "(10, 10)"
      ]
     },
     "execution_count": 90,
     "metadata": {},
     "output_type": "execute_result"
    }
   ],
   "source": [
    "dist_sq.shape"
   ]
  },
  {
   "cell_type": "code",
   "execution_count": 91,
   "metadata": {
    "name": "01-python-tools-ds-92"
   },
   "outputs": [
    {
     "data": {
      "text/plain": [
       "array([0., 0., 0., 0., 0., 0., 0., 0., 0., 0.])"
      ]
     },
     "execution_count": 91,
     "metadata": {},
     "output_type": "execute_result"
    }
   ],
   "source": [
    "dist_sq.diagonal()"
   ]
  },
  {
   "cell_type": "markdown",
   "metadata": {},
   "source": [
    "### Conclusions moving forward\n",
    "\n",
    "It's important to understand numpy and arrays, since most data sets we encounter are rectangular. The notations and operations we saw in numpy will translate to data, except for the fact that data is typically heterogeneous, i.e., of different types. The problem with using numpy for modern data analysis is that if you have mixed data types, it will all be coerced to strings, and then you can't actually do any data analysis. \n",
    "\n",
    "The solution to this issue (which is also present in Matlab) came about with the `pandas` package, which is the main workhorse of data science in Python\n"
   ]
  }
 ],
 "metadata": {
  "jupytext": {
   "formats": "ipynb,Rmd"
  },
  "kernelspec": {
   "display_name": "Python 3",
   "language": "python",
   "name": "python3"
  },
  "language_info": {
   "codemirror_mode": {
    "name": "ipython",
    "version": 3
   },
   "file_extension": ".py",
   "mimetype": "text/x-python",
   "name": "python",
   "nbconvert_exporter": "python",
   "pygments_lexer": "ipython3",
   "version": "3.7.2"
  }
 },
 "nbformat": 4,
 "nbformat_minor": 4
}