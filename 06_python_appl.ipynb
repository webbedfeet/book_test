{
 "cells": [
  {
   "cell_type": "markdown",
   "metadata": {},
   "source": [
    "# String manipulation\n",
    "\n",
    "String manipulation is one of Python's strong suites. It comes built in with methods for strings, and the `re` module (for *regular expressions*) ups that power many fold. \n",
    "\n",
    "Strings are objects that we typically see in quotes. We can also check if a variable is a string."
   ]
  },
  {
   "cell_type": "code",
   "execution_count": null,
   "metadata": {
    "name": "06-python-appl-1"
   },
   "outputs": [],
   "source": [
    "a = 'Les Miserable'\n",
    "\n",
    "type(a)"
   ]
  },
  {
   "cell_type": "markdown",
   "metadata": {},
   "source": [
    "Strings are a little funny. They look like they are one thing, but they can act like lists. In some sense they \n",
    "are really a container of characters. So we can have"
   ]
  },
  {
   "cell_type": "code",
   "execution_count": null,
   "metadata": {
    "name": "06-python-appl-2"
   },
   "outputs": [],
   "source": [
    "len(a)"
   ]
  },
  {
   "cell_type": "code",
   "execution_count": null,
   "metadata": {
    "name": "06-python-appl-3"
   },
   "outputs": [],
   "source": [
    "a[:4]"
   ]
  },
  {
   "cell_type": "code",
   "execution_count": null,
   "metadata": {
    "name": "06-python-appl-4"
   },
   "outputs": [],
   "source": [
    "a[3:6]"
   ]
  },
  {
   "cell_type": "markdown",
   "metadata": {},
   "source": [
    "The rules are basically the same as lists. To make this explicit, let's consider the word 'bare'. \n",
    "In terms of positions, we can write this out.\n",
    "\n",
    "|           |      |      |      |      |\n",
    "| --------- | ---- | ---- | ---- | ---- |\n",
    "| index     | 0    | 1    | 2    | 3    |\n",
    "| string    | b    | a    | r    | e    |\n",
    "| neg index | -4   | -3   | -2   | -1   |\n",
    "|           |      |      |      |      |\n",
    "\n",
    "We can also slices strings (and lists for that matter) in intervals. So, going back to `a`, "
   ]
  },
  {
   "cell_type": "code",
   "execution_count": null,
   "metadata": {
    "name": "06-python-appl-5"
   },
   "outputs": [],
   "source": [
    "a[::2]"
   ]
  },
  {
   "cell_type": "markdown",
   "metadata": {},
   "source": [
    "slices every other character. \n",
    "\n",
    "Strings come with several methods to manipulate them natively. "
   ]
  },
  {
   "cell_type": "code",
   "execution_count": null,
   "metadata": {
    "name": "06-python-appl-6"
   },
   "outputs": [],
   "source": [
    "'White Knight'.capitalize()\n",
    "\"It's just a flesh wound\".count('u')\n",
    "'Almond'.endswith('nd')\n",
    "'White Knight'.lower()\n",
    "'White Knight'.upper()\n",
    "'flesh wound'.replace('flesh','bullet')\n",
    "' This is my song   '.strip()\n",
    "'Hello, hello, hello'.split(',')"
   ]
  },
  {
   "cell_type": "markdown",
   "metadata": {},
   "source": [
    "One of the most powerful string methods is `join`. This allows us to take a list of characters, and then \n",
    "put them together using a particular separator. "
   ]
  },
  {
   "cell_type": "code",
   "execution_count": null,
   "metadata": {
    "name": "06-python-appl-7"
   },
   "outputs": [],
   "source": [
    "' '.join(['This','is','my','song'])"
   ]
  },
  {
   "cell_type": "markdown",
   "metadata": {},
   "source": [
    "Also recall that we are allowed \"string arithmetic\"."
   ]
  },
  {
   "cell_type": "code",
   "execution_count": null,
   "metadata": {
    "name": "06-python-appl-8"
   },
   "outputs": [],
   "source": [
    "'g' + 'a' + 'f' + 'f' + 'e'\n",
    "\n",
    "'a '*5"
   ]
  },
  {
   "cell_type": "markdown",
   "metadata": {},
   "source": [
    "### String formatting\n",
    "\n",
    "In older code, you will see a formal format statement."
   ]
  },
  {
   "cell_type": "code",
   "execution_count": null,
   "metadata": {
    "name": "06-python-appl-9"
   },
   "outputs": [],
   "source": [
    "var = 'horse'\n",
    "var2 = 'car'\n",
    "\n",
    "s = 'Get off my {}!'\n",
    "\n",
    "s.format(var)\n",
    "s.format(var2)"
   ]
  },
  {
   "cell_type": "markdown",
   "metadata": {},
   "source": [
    "This is great for templates. "
   ]
  },
  {
   "cell_type": "code",
   "execution_count": null,
   "metadata": {
    "name": "06-python-appl-10"
   },
   "outputs": [],
   "source": [
    "template_string = \"\"\"\n",
    "{country}, our native village\n",
    "There was a {species} tree.\n",
    "We used to sleep under it.\n",
    "\"\"\"\n",
    "\n",
    "print(template_string.format(country='India', species = 'banyan'))\n",
    "print(template_string.format(country = 'Canada', species = 'maple'))"
   ]
  },
  {
   "cell_type": "markdown",
   "metadata": {},
   "source": [
    "In Python 3.6+, the concept of `f-strings` or formatted strings was introduced. They can be easier to read, faster and have better performance. "
   ]
  },
  {
   "cell_type": "code",
   "execution_count": null,
   "metadata": {
    "name": "06-python-appl-11"
   },
   "outputs": [],
   "source": [
    "country = 'USA'\n",
    "f\"This is my {country}!\""
   ]
  },
  {
   "cell_type": "markdown",
   "metadata": {},
   "source": [
    "## Regular expressions\n",
    "\n",
    "Regular expressions are amazingly powerful tools for string search and manipulation. They are available in pretty much every \n",
    "computer language in some form or the other. I'll provide a short and far from comprehensive introduction here. The website [regex101.com](https://regex101.com) is a really good resource to learn and check your regular expressions. \n",
    "\n",
    "### Pattern matching\n",
    "\n",
    "| Syntax  | Description                                                  |\n",
    "| ------- | ------------------------------------------------------------ |\n",
    "| `.`     | Matches any one character                                    |\n",
    "| `^`     | Matches from the beginning of a string                       |\n",
    "| `$`     | Matches to the end of a string                               |\n",
    "| `*`      | Matches 0 or more repetitions of the previous character      |\n",
    "| `+`     | Matches 1 or more repetitions of the previous character      |\n",
    "| `?`     | Matches 0 or 1 repetitions of the previous character         |\n",
    "| `{m}`   | Matches `m` repetitions of the previous character            |\n",
    "| `{m,n}` | Matches any number from `m` to `n` of the previous character |\n",
    "| `\\`     | Escape character                                             |\n",
    "| `[ ]`   | A set of characters (e.g. `[A-Z]` will match any capital letter) |\n",
    "| `( )`   | Matches the pattern exactly                                  |\n",
    "| `|`     | OR                                                           |\n"
   ]
  },
  {
   "cell_type": "markdown",
   "metadata": {},
   "source": [
    "# BioPython\n",
    "\n",
    "BioPython is a package aimed at bioinformatics work. As with many Python packages, it is opinionated towards the needs of the developers, so might not meet everyone's needs. \n",
    "\n",
    "You can install BioPython using `conda install biopython`.\n",
    "\n",
    "We'll do a short example"
   ]
  },
  {
   "cell_type": "code",
   "execution_count": null,
   "metadata": {
    "name": "06-python-appl-12"
   },
   "outputs": [],
   "source": [
    "from Bio.Seq import Seq\n",
    "\n",
    "#create a sequence object\n",
    "my_seq = Seq(\"CATGTAGACTAG\")\n",
    "\n",
    "#print out some details about it\n",
    "print(\"seq %s is %i bases long\" % (my_seq, len(my_seq)))\n",
    "print(\"reverse complement is %s\" % my_seq.reverse_complement())\n",
    "print(\"protein translation is %s\" % my_seq.translate())"
   ]
  },
  {
   "cell_type": "markdown",
   "metadata": {},
   "source": [
    "BioPython has capabilities for querying databases like `Entrez`, read sequences, do alignments using FASTA, and the like. \n",
    "\n",
    "\n"
   ]
  }
 ],
 "metadata": {
  "jupytext": {
   "cell_metadata_filter": "name,-all",
   "formats": "ipynb,Rmd"
  },
  "kernelspec": {
   "display_name": "Python 3",
   "language": "python",
   "name": "python3"
  }
 },
 "nbformat": 4,
 "nbformat_minor": 4
}
